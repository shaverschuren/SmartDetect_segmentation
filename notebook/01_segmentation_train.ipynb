{
 "cells": [
  {
   "cell_type": "markdown",
   "metadata": {},
   "source": [
    "# 01_segmentation_train.ipynb\n",
    "\n",
    "This file performs the model training process of our Pix2Pix-based lung segmentation system.\n",
    "\n"
   ]
  },
  {
   "cell_type": "markdown",
   "metadata": {},
   "source": [
    "### Part 1: Define directories, import required libraries and setup sesion"
   ]
  },
  {
   "cell_type": "code",
   "execution_count": 1,
   "metadata": {
    "tags": []
   },
   "outputs": [
    {
     "name": "stdout",
     "output_type": "stream",
     "text": [
      "/home/sjors/Documents/TUe/MSc/Q3/8FM30/Project/SmartDetect_segmentation\n"
     ]
    }
   ],
   "source": [
    "# Change working directory to the root folder\n",
    "import os, sys\n",
    "if os.path.split(os.getcwd())[-1] != 'SmartDetect_segmentation':\n",
    "    %cd ..\n",
    "    sys.path.append(\"src\")\n",
    "    \n",
    "    if os.path.split(os.getcwd())[-1] != 'SmartDetect_segmentation':\n",
    "        raise UserError(\"Something went wrong in the directory reassignment!\")"
   ]
  },
  {
   "cell_type": "code",
   "execution_count": 2,
   "metadata": {
    "tags": []
   },
   "outputs": [],
   "source": [
    "# Perform required imports\n",
    "from preprocessing import preprocessing\n",
    "from dataset import generate_dataset\n",
    "from model import define_discriminator, define_generator, define_gan\n",
    "from training import * # TODO: Still gotta implement this!\n",
    "from util.general import *\n",
    "from util.tf_session import *\n",
    "\n",
    "# Setup GPU tensorflow session\n",
    "n_gpus = setup_tf_gpu_session()"
   ]
  },
  {
   "cell_type": "code",
   "execution_count": 3,
   "metadata": {},
   "outputs": [],
   "source": [
    "# Define some basic directories to use in the rest of this program\n",
    "dataDir = os.path.join(\"data\", \"preprocessed\")\n",
    "modelDir = \"model\"\n",
    "notebookDir = \"notebook\""
   ]
  },
  {
   "cell_type": "markdown",
   "metadata": {},
   "source": [
    "### Part 2: Perform data preprocessing\n",
    "Please note that since this part may take quite a long time, it is skipped on default if the software detects preprocessed data already."
   ]
  },
  {
   "cell_type": "code",
   "execution_count": 4,
   "metadata": {},
   "outputs": [
    {
     "name": "stdout",
     "output_type": "stream",
     "text": [
      "--- Performing data preprocessing --- \n",
      "Extracting data from:\t/home/sjors/Documents/TUe/MSc/Q3/8FM30/Project/SmartDetect_segmentation/data/raw\n",
      "Outputting data to:\t/home/sjors/Documents/TUe/MSc/Q3/8FM30/Project/SmartDetect_segmentation/data/preprocessed\n",
      "\n",
      "Extracting data from subset 'CXR_ChinaSet' (1/3)... \n",
      "(found 566 images)\n",
      " |##################################################| 100.0% \n",
      "\n",
      "Result: \u001b[93mWARNING (Missed 96 mask files)\u001b[0m\n",
      "\n",
      "Extracting data from subset 'CXR_Manual  ' (2/3)... \n",
      "(found 188 images)\n",
      " |##################################################| 100.0% \n",
      "\n",
      "Result: \u001b[92mOK\u001b[0m\n",
      "\n",
      "Extracting data from subset 'CXR_Mntg    ' (3/3)... \n",
      "(found 138 images)\n",
      " |##################################################| 100.0% \n",
      "\n",
      "Result: \u001b[92mOK\u001b[0m\n"
     ]
    }
   ],
   "source": [
    "# Preprocessing the data. \n",
    "# To rerun the preprocessing, change 'rerun' to True\n",
    "\n",
    "preprocessing(rerun=False)"
   ]
  },
  {
   "cell_type": "markdown",
   "metadata": {},
   "source": [
    "### Part 3: Dataset generation\n",
    "The data is split into a training and test set per default.\n",
    "Validation is performed with the training set based on a later split."
   ]
  },
  {
   "cell_type": "code",
   "execution_count": 5,
   "metadata": {},
   "outputs": [
    {
     "name": "stdout",
     "output_type": "stream",
     "text": [
      "Extracting train dataset from /home/sjors/Documents/TUe/MSc/Q3/8FM30/Project/SmartDetect_segmentation/data/preprocessed\n",
      " |##################################################| 100.0% \n",
      "Completed. Dataset consists of 714 images and is 0.75 GB\n",
      "Extracting test dataset from /home/sjors/Documents/TUe/MSc/Q3/8FM30/Project/SmartDetect_segmentation/data/preprocessed\n",
      " |##################################################| 100.0% \n",
      "Completed. Dataset consists of 178 images and is 0.19 GB\n"
     ]
    }
   ],
   "source": [
    "dataset_train = generate_dataset(dataDir, split_dataset=True, train_or_test='train')\n",
    "dataset_test = generate_dataset(dataDir, split_dataset=True, train_or_test='test')"
   ]
  },
  {
   "cell_type": "markdown",
   "metadata": {},
   "source": [
    "### Part 4: Model definition\n",
    "Here, we will define the GAN model we'll be using for the segmentation purposes.\n",
    "It is derived from the Pix2Pix model."
   ]
  },
  {
   "cell_type": "code",
   "execution_count": null,
   "metadata": {},
   "outputs": [],
   "source": [
    "# TODO: Defining models"
   ]
  },
  {
   "cell_type": "markdown",
   "metadata": {},
   "source": [
    "### Part 5: Training\n",
    "Here, the actual training process is performed. \n",
    "We may pass some hyperparameters in the 'train' function."
   ]
  },
  {
   "cell_type": "code",
   "execution_count": null,
   "metadata": {},
   "outputs": [],
   "source": [
    "# TODO: Implement actual training"
   ]
  },
  {
   "cell_type": "markdown",
   "metadata": {},
   "source": [
    "### Part 6: Monitoring\n",
    "The training process is monitored via TensorBoard.\n",
    "The results will be displayed here after training is completed. Note, however, that we may also monitor the process at training time by opening tensorboard manually:\n",
    "\n",
    "`tensorboard --logdir logs`"
   ]
  },
  {
   "cell_type": "code",
   "execution_count": null,
   "metadata": {},
   "outputs": [],
   "source": [
    "# TODO: Implement tensorboard display"
   ]
  }
 ],
 "metadata": {
  "kernelspec": {
   "display_name": "Python 3",
   "language": "python",
   "name": "python3"
  },
  "language_info": {
   "codemirror_mode": {
    "name": "ipython",
    "version": 3
   },
   "file_extension": ".py",
   "mimetype": "text/x-python",
   "name": "python",
   "nbconvert_exporter": "python",
   "pygments_lexer": "ipython3",
   "version": "3.8.5"
  }
 },
 "nbformat": 4,
 "nbformat_minor": 4
}
