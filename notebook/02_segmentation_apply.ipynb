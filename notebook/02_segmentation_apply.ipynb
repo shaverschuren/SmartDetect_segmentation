{
 "cells": [
  {
   "cell_type": "markdown",
   "metadata": {},
   "source": [
    "# 02_segmentation_apply.ipynb\n",
    "\n",
    "This file allows for application of our Pix2Pix-based lung segmentation system."
   ]
  },
  {
   "cell_type": "markdown",
   "metadata": {},
   "source": [
    "### Part 1: Define directories, import required libraries and setup sesion"
   ]
  },
  {
   "cell_type": "code",
   "execution_count": 1,
   "metadata": {},
   "outputs": [
    {
     "output_type": "stream",
     "name": "stdout",
     "text": [
      "c:\\Users\\s167626\\OneDrive - TU Eindhoven\\TUe\\Klinische Modules\\Module 2\\Git\\SmartDetect_segmentation\n"
     ]
    }
   ],
   "source": [
    "# Change working directory to the root folder\n",
    "import os, sys\n",
    "if os.path.split(os.getcwd())[-1] != 'SmartDetect_segmentation':\n",
    "    %cd ..\n",
    "    sys.path.append(\"src\")\n",
    "    \n",
    "    if os.path.split(os.getcwd())[-1] != 'SmartDetect_segmentation':\n",
    "        raise UserError(\"Something went wrong in the directory reassignment!\")"
   ]
  },
  {
   "cell_type": "code",
   "execution_count": 2,
   "metadata": {},
   "outputs": [
    {
     "output_type": "stream",
     "name": "stderr",
     "text": [
      "Using TensorFlow backend.\n"
     ]
    }
   ],
   "source": [
    "# Perform required imports\n",
    "import numpy as np\n",
    "import matplotlib.pyplot as plt\n",
    "from preprocessing import preprocessing\n",
    "from dataset import generate_dataset\n",
    "from model import define_discriminator, define_generator, define_gan\n",
    "from training import *\n",
    "from evaluation import *\n",
    "from util.general import *\n",
    "from util.inspection import *\n",
    "from util.tf_session import *\n",
    "\n",
    "# Setup GPU tensorflow session\n",
    "n_gpus = setup_tf_gpu_session()"
   ]
  },
  {
   "cell_type": "code",
   "execution_count": null,
   "metadata": {},
   "outputs": [],
   "source": [
    "#load a trained model and evaluate it on a test set\n",
    "model_Filename=\"\"\n",
    "model = load_model(model_Filename)\n",
    "evaluate_model(dataset_test, model_Filename)\n",
    "\n",
    "#or put dataset through a model and get predicted images\n",
    "predicted images = predict_dataset(dataset, model) \n",
    "\n",
    "#or put a single image through the model and plot the prediction\n",
    "predict_and_plot_image(img, model)"
   ]
  }
 ],
 "metadata": {
  "kernelspec": {
   "display_name": "Python 3",
   "language": "python",
   "name": "python3"
  },
  "language_info": {
   "codemirror_mode": {
    "name": "ipython",
    "version": 3
   },
   "file_extension": ".py",
   "mimetype": "text/x-python",
   "name": "python",
   "nbconvert_exporter": "python",
   "pygments_lexer": "ipython3",
   "version": "3.7.7-final"
  }
 },
 "nbformat": 4,
 "nbformat_minor": 4
}