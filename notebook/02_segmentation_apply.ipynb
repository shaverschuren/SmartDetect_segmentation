{
 "cells": [
  {
   "cell_type": "markdown",
   "metadata": {},
   "source": [
    "# 02_segmentation_apply.ipynb\n",
    "\n",
    "This file allows for application of our Pix2Pix-based lung segmentation system."
   ]
  },
  {
   "cell_type": "markdown",
   "metadata": {},
   "source": [
    "### Part 1: Define directories, import required libraries and setup sesion"
   ]
  },
  {
   "cell_type": "code",
   "execution_count": null,
   "metadata": {},
   "outputs": [],
   "source": [
    "# Change working directory to the root folder\n",
    "import os, sys\n",
    "if os.path.split(os.getcwd())[-1] != 'SmartDetect_segmentation':\n",
    "    %cd ..\n",
    "    sys.path.append(\"src\")\n",
    "    \n",
    "    if os.path.split(os.getcwd())[-1] != 'SmartDetect_segmentation':\n",
    "        raise UserError(\"Something went wrong in the directory reassignment!\")"
   ]
  },
  {
   "cell_type": "code",
   "execution_count": null,
   "metadata": {},
   "outputs": [],
   "source": [
    "# Perform required imports\n",
    "from keras.models import load_model\n",
    "from tqdm import tqdm\n",
    "from glob import glob\n",
    "from apply import predict_raw_image\n",
    "from util.tf_session import setup_tf_gpu_session\n",
    "\n",
    "# Setup GPU tensorflow session\n",
    "n_gpus = setup_tf_gpu_session()"
   ]
  },
  {
   "cell_type": "markdown",
   "metadata": {},
   "source": [
    "### Part 2: Define the paths required for the prediction process\n",
    "*(model_path)* str: Path to the final model (provided with the software).  \n",
    "*(inDir)*      str: Path to a directory with images for which you wish to predict a mask.  \n",
    "*(outDir)*     str: Path to a directory in which to put the final images.\n",
    "\n",
    "Please note that the masks will have the same file-names as the original images."
   ]
  },
  {
   "cell_type": "code",
   "execution_count": null,
   "metadata": {},
   "outputs": [],
   "source": [
    "# Provide paths\n",
    "model_path = \"D:\\\\SmartDetect_segmentation\\\\model\\\\finalModel.h5\"\n",
    "inDir = \"CHANGE_ME_TO_IN_DIR_PATH\"\n",
    "outDir = \"CHANGE_ME_TO_OUT_DIR_PATH\""
   ]
  },
  {
   "cell_type": "markdown",
   "metadata": {},
   "source": [
    "### Part 3: Compile model and predict masks"
   ]
  },
  {
   "cell_type": "code",
   "execution_count": null,
   "metadata": {},
   "outputs": [],
   "source": [
    "# load and compile a trained model\n",
    "model = load_model(model_path)\n",
    "model.compile(loss='binary_crossentropy', optimizer='adam', metrics=['accuracy'])"
   ]
  },
  {
   "cell_type": "code",
   "execution_count": null,
   "metadata": {},
   "outputs": [],
   "source": [
    "# Generate path lists\n",
    "in_paths = glob(os.path.join(inDir, \"*.png\"))\n",
    "out_paths = [path.replace(inDir, outDir) for path in in_paths]"
   ]
  },
  {
   "cell_type": "code",
   "execution_count": null,
   "metadata": {},
   "outputs": [],
   "source": [
    "# Loop over images and generate mask predictions\n",
    "for i in tqdm(range(len(in_paths)), ascii=True):\n",
    "    in_path = in_paths[i]\n",
    "    out_path = out_paths[i]\n",
    "    predict_raw_image(in_path, out_path, model)"
   ]
  }
 ],
 "metadata": {
  "kernelspec": {
   "display_name": "Python 3",
   "language": "python",
   "name": "python3"
  },
  "language_info": {
   "codemirror_mode": {
    "name": "ipython",
    "version": 3
   },
   "file_extension": ".py",
   "mimetype": "text/x-python",
   "name": "python",
   "nbconvert_exporter": "python",
   "pygments_lexer": "ipython3",
   "version": "3.8.8"
  }
 },
 "nbformat": 4,
 "nbformat_minor": 4
}
